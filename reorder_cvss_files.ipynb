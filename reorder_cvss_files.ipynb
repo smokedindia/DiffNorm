{
 "cells": [
  {
   "cell_type": "code",
   "execution_count": 1,
   "metadata": {},
   "outputs": [],
   "source": [
    "import os, glob\n",
    "import pandas as pd"
   ]
  },
  {
   "cell_type": "code",
   "execution_count": 10,
   "metadata": {},
   "outputs": [
    {
     "data": {
      "text/plain": [
       "['validated.tsv',\n",
       " 'dev.tsv',\n",
       " 'invalidated.tsv',\n",
       " 'clips',\n",
       " 'other.tsv',\n",
       " 'test.tsv',\n",
       " 'train.tsv',\n",
       " 'feat']"
      ]
     },
     "execution_count": 10,
     "metadata": {},
     "output_type": "execute_result"
    }
   ],
   "source": [
    "ds_root = '/mnt/lynx1/datasets/CVSS-C/fr-en/fr'\n",
    "os.listdir(ds_root)"
   ]
  },
  {
   "cell_type": "code",
   "execution_count": 11,
   "metadata": {},
   "outputs": [
    {
     "data": {
      "text/html": [
       "<div>\n",
       "<style scoped>\n",
       "    .dataframe tbody tr th:only-of-type {\n",
       "        vertical-align: middle;\n",
       "    }\n",
       "\n",
       "    .dataframe tbody tr th {\n",
       "        vertical-align: top;\n",
       "    }\n",
       "\n",
       "    .dataframe thead th {\n",
       "        text-align: right;\n",
       "    }\n",
       "</style>\n",
       "<table border=\"1\" class=\"dataframe\">\n",
       "  <thead>\n",
       "    <tr style=\"text-align: right;\">\n",
       "      <th></th>\n",
       "      <th>client_id</th>\n",
       "      <th>path</th>\n",
       "      <th>sentence</th>\n",
       "      <th>up_votes</th>\n",
       "      <th>down_votes</th>\n",
       "      <th>age</th>\n",
       "      <th>gender</th>\n",
       "      <th>accent</th>\n",
       "    </tr>\n",
       "  </thead>\n",
       "  <tbody>\n",
       "    <tr>\n",
       "      <th>0</th>\n",
       "      <td>004b83c7c72d281c47d20d63c2e18f7463faff5bef6f7d...</td>\n",
       "      <td>common_voice_fr_20046123.mp3</td>\n",
       "      <td>La famille devra alors tout réapprendre.</td>\n",
       "      <td>2</td>\n",
       "      <td>0</td>\n",
       "      <td>twenties</td>\n",
       "      <td>male</td>\n",
       "      <td>france</td>\n",
       "    </tr>\n",
       "    <tr>\n",
       "      <th>1</th>\n",
       "      <td>0174221e49c787eb39c0f8af02c17d09bb19f73daf70df...</td>\n",
       "      <td>common_voice_fr_19364697.mp3</td>\n",
       "      <td>Ce site contient quatre tombeaux de la dynasti...</td>\n",
       "      <td>2</td>\n",
       "      <td>0</td>\n",
       "      <td>NaN</td>\n",
       "      <td>NaN</td>\n",
       "      <td>NaN</td>\n",
       "    </tr>\n",
       "    <tr>\n",
       "      <th>2</th>\n",
       "      <td>01862eb52a1af6f61706bc9b24d9740c0e6872dc4738c2...</td>\n",
       "      <td>common_voice_fr_18027195.mp3</td>\n",
       "      <td>J'ai dit que les acteurs de bois avaient, selo...</td>\n",
       "      <td>2</td>\n",
       "      <td>0</td>\n",
       "      <td>NaN</td>\n",
       "      <td>NaN</td>\n",
       "      <td>NaN</td>\n",
       "    </tr>\n",
       "    <tr>\n",
       "      <th>3</th>\n",
       "      <td>02acb9cce517c82f1daf0dbff776bcdd86045eabe402af...</td>\n",
       "      <td>common_voice_fr_19713912.mp3</td>\n",
       "      <td>Cependant, une harmonisation est en cours, au ...</td>\n",
       "      <td>2</td>\n",
       "      <td>0</td>\n",
       "      <td>NaN</td>\n",
       "      <td>NaN</td>\n",
       "      <td>NaN</td>\n",
       "    </tr>\n",
       "    <tr>\n",
       "      <th>4</th>\n",
       "      <td>02db02fa9f7a339438085dfaca3275398d04d454dd644f...</td>\n",
       "      <td>common_voice_fr_19651746.mp3</td>\n",
       "      <td>Elle aimerait devenir actrice par la suite.</td>\n",
       "      <td>2</td>\n",
       "      <td>1</td>\n",
       "      <td>NaN</td>\n",
       "      <td>NaN</td>\n",
       "      <td>NaN</td>\n",
       "    </tr>\n",
       "  </tbody>\n",
       "</table>\n",
       "</div>"
      ],
      "text/plain": [
       "                                           client_id  \\\n",
       "0  004b83c7c72d281c47d20d63c2e18f7463faff5bef6f7d...   \n",
       "1  0174221e49c787eb39c0f8af02c17d09bb19f73daf70df...   \n",
       "2  01862eb52a1af6f61706bc9b24d9740c0e6872dc4738c2...   \n",
       "3  02acb9cce517c82f1daf0dbff776bcdd86045eabe402af...   \n",
       "4  02db02fa9f7a339438085dfaca3275398d04d454dd644f...   \n",
       "\n",
       "                           path  \\\n",
       "0  common_voice_fr_20046123.mp3   \n",
       "1  common_voice_fr_19364697.mp3   \n",
       "2  common_voice_fr_18027195.mp3   \n",
       "3  common_voice_fr_19713912.mp3   \n",
       "4  common_voice_fr_19651746.mp3   \n",
       "\n",
       "                                            sentence  up_votes  down_votes  \\\n",
       "0           La famille devra alors tout réapprendre.         2           0   \n",
       "1  Ce site contient quatre tombeaux de la dynasti...         2           0   \n",
       "2  J'ai dit que les acteurs de bois avaient, selo...         2           0   \n",
       "3  Cependant, une harmonisation est en cours, au ...         2           0   \n",
       "4        Elle aimerait devenir actrice par la suite.         2           1   \n",
       "\n",
       "        age gender  accent  \n",
       "0  twenties   male  france  \n",
       "1       NaN    NaN     NaN  \n",
       "2       NaN    NaN     NaN  \n",
       "3       NaN    NaN     NaN  \n",
       "4       NaN    NaN     NaN  "
      ]
     },
     "execution_count": 11,
     "metadata": {},
     "output_type": "execute_result"
    }
   ],
   "source": [
    "df = pd.read_csv(os.path.join(ds_root, 'test.tsv'), sep='\\t')\n",
    "df.head()"
   ]
  },
  {
   "cell_type": "code",
   "execution_count": 12,
   "metadata": {},
   "outputs": [],
   "source": [
    "# check if files exist in clips/ directory\n",
    "for i, row in df.iterrows():\n",
    "    if not os.path.exists(os.path.join(ds_root, 'clips', row['path'])):\n",
    "        print(row['path'])\n",
    "        "
   ]
  },
  {
   "cell_type": "code",
   "execution_count": 13,
   "metadata": {},
   "outputs": [
    {
     "name": "stderr",
     "output_type": "stream",
     "text": [
      "  0%|          | 0/14760 [00:00<?, ?it/s]"
     ]
    },
    {
     "name": "stderr",
     "output_type": "stream",
     "text": [
      "100%|██████████| 14760/14760 [00:27<00:00, 536.85it/s]\n",
      "100%|██████████| 14760/14760 [00:26<00:00, 553.58it/s]\n",
      "100%|██████████| 130604/130604 [03:58<00:00, 548.01it/s]\n"
     ]
    }
   ],
   "source": [
    "import tqdm\n",
    "import shutil\n",
    "for split in ['test', 'dev', 'train']:\n",
    "    os.makedirs(os.path.join(ds_root, split), exist_ok=True)\n",
    "    df = pd.read_csv(os.path.join(ds_root, f'{split}.tsv'), sep='\\t')\n",
    "    for i, row in tqdm.tqdm(df.iterrows(), total=len(df)):\n",
    "        if not os.path.exists(os.path.join(ds_root, 'clips', row['path'])):\n",
    "            print(row['path'])\n",
    "            continue\n",
    "        # move\n",
    "        shutil.move(os.path.join(ds_root, 'clips', row['path']), os.path.join(ds_root, split, row['path']))\n",
    "        # print(row['path'])\n",
    "        # break"
   ]
  },
  {
   "cell_type": "code",
   "execution_count": 21,
   "metadata": {},
   "outputs": [
    {
     "data": {
      "text/html": [
       "<div>\n",
       "<style scoped>\n",
       "    .dataframe tbody tr th:only-of-type {\n",
       "        vertical-align: middle;\n",
       "    }\n",
       "\n",
       "    .dataframe tbody tr th {\n",
       "        vertical-align: top;\n",
       "    }\n",
       "\n",
       "    .dataframe thead th {\n",
       "        text-align: right;\n",
       "    }\n",
       "</style>\n",
       "<table border=\"1\" class=\"dataframe\">\n",
       "  <thead>\n",
       "    <tr style=\"text-align: right;\">\n",
       "      <th></th>\n",
       "      <th>src_id</th>\n",
       "      <th>tgt_audio_token</th>\n",
       "    </tr>\n",
       "  </thead>\n",
       "  <tbody>\n",
       "    <tr>\n",
       "      <th>0</th>\n",
       "      <td>common_voice_es_19770471.mp3</td>\n",
       "      <td>497 497 497 497 497 497 497 497 497 497 497 49...</td>\n",
       "    </tr>\n",
       "    <tr>\n",
       "      <th>1</th>\n",
       "      <td>common_voice_es_19759658.mp3</td>\n",
       "      <td>341 341 71 704 704 704 10 106 511 106 596 839 ...</td>\n",
       "    </tr>\n",
       "    <tr>\n",
       "      <th>2</th>\n",
       "      <td>common_voice_es_19636122.mp3</td>\n",
       "      <td>497 497 604 604 6 520 520 520 300 300 300 63 6...</td>\n",
       "    </tr>\n",
       "    <tr>\n",
       "      <th>3</th>\n",
       "      <td>common_voice_es_18496879.mp3</td>\n",
       "      <td>341 20 293 804 804 293 293 293 499 293 293 293...</td>\n",
       "    </tr>\n",
       "    <tr>\n",
       "      <th>4</th>\n",
       "      <td>common_voice_es_20003321.mp3</td>\n",
       "      <td>497 497 497 497 497 257 497 497 497 497 497 49...</td>\n",
       "    </tr>\n",
       "  </tbody>\n",
       "</table>\n",
       "</div>"
      ],
      "text/plain": [
       "                         src_id  \\\n",
       "0  common_voice_es_19770471.mp3   \n",
       "1  common_voice_es_19759658.mp3   \n",
       "2  common_voice_es_19636122.mp3   \n",
       "3  common_voice_es_18496879.mp3   \n",
       "4  common_voice_es_20003321.mp3   \n",
       "\n",
       "                                     tgt_audio_token  \n",
       "0  497 497 497 497 497 497 497 497 497 497 497 49...  \n",
       "1  341 341 71 704 704 704 10 106 511 106 596 839 ...  \n",
       "2  497 497 604 604 6 520 520 520 300 300 300 63 6...  \n",
       "3  341 20 293 804 804 293 293 293 499 293 293 293...  \n",
       "4  497 497 497 497 497 257 497 497 497 497 497 49...  "
      ]
     },
     "execution_count": 21,
     "metadata": {},
     "output_type": "execute_result"
    }
   ],
   "source": [
    "import os, glob\n",
    "import pandas as pd\n",
    "\n",
    "ds_root = '/mnt/lynx1/datasets/CVSS-C/es-en'\n",
    "lang = 'es'\n",
    "\n",
    "df = pd.read_csv(os.path.join(ds_root, lang, f'dev.quant.tsv'), sep='|', header=None)\n",
    "df.columns = ['src_id', 'tgt_audio_token']\n",
    "df.head()"
   ]
  },
  {
   "cell_type": "code",
   "execution_count": 22,
   "metadata": {},
   "outputs": [
    {
     "data": {
      "text/html": [
       "<div>\n",
       "<style scoped>\n",
       "    .dataframe tbody tr th:only-of-type {\n",
       "        vertical-align: middle;\n",
       "    }\n",
       "\n",
       "    .dataframe tbody tr th {\n",
       "        vertical-align: top;\n",
       "    }\n",
       "\n",
       "    .dataframe thead th {\n",
       "        text-align: right;\n",
       "    }\n",
       "</style>\n",
       "<table border=\"1\" class=\"dataframe\">\n",
       "  <thead>\n",
       "    <tr style=\"text-align: right;\">\n",
       "      <th></th>\n",
       "      <th>/mnt/lynx1/datasets/CVSS-C/es-en/es/dev</th>\n",
       "    </tr>\n",
       "  </thead>\n",
       "  <tbody>\n",
       "    <tr>\n",
       "      <th>common_voice_es_19770471.mp3</th>\n",
       "      <td>461070</td>\n",
       "    </tr>\n",
       "    <tr>\n",
       "      <th>common_voice_es_19759658.mp3</th>\n",
       "      <td>281358</td>\n",
       "    </tr>\n",
       "    <tr>\n",
       "      <th>common_voice_es_19636122.mp3</th>\n",
       "      <td>280206</td>\n",
       "    </tr>\n",
       "    <tr>\n",
       "      <th>common_voice_es_18496879.mp3</th>\n",
       "      <td>291726</td>\n",
       "    </tr>\n",
       "    <tr>\n",
       "      <th>common_voice_es_20003321.mp3</th>\n",
       "      <td>231822</td>\n",
       "    </tr>\n",
       "  </tbody>\n",
       "</table>\n",
       "</div>"
      ],
      "text/plain": [
       "                              /mnt/lynx1/datasets/CVSS-C/es-en/es/dev\n",
       "common_voice_es_19770471.mp3                                   461070\n",
       "common_voice_es_19759658.mp3                                   281358\n",
       "common_voice_es_19636122.mp3                                   280206\n",
       "common_voice_es_18496879.mp3                                   291726\n",
       "common_voice_es_20003321.mp3                                   231822"
      ]
     },
     "execution_count": 22,
     "metadata": {},
     "output_type": "execute_result"
    }
   ],
   "source": [
    "# df2 = pd.read_csv('exps2/cvss/es-en/dev.es.tsv', sep='\\t')\n",
    "# df2.head()"
   ]
  },
  {
   "cell_type": "code",
   "execution_count": 23,
   "metadata": {},
   "outputs": [
    {
     "data": {
      "text/html": [
       "<div>\n",
       "<style scoped>\n",
       "    .dataframe tbody tr th:only-of-type {\n",
       "        vertical-align: middle;\n",
       "    }\n",
       "\n",
       "    .dataframe tbody tr th {\n",
       "        vertical-align: top;\n",
       "    }\n",
       "\n",
       "    .dataframe thead th {\n",
       "        text-align: right;\n",
       "    }\n",
       "</style>\n",
       "<table border=\"1\" class=\"dataframe\">\n",
       "  <thead>\n",
       "    <tr style=\"text-align: right;\">\n",
       "      <th></th>\n",
       "      <th>/mnt/lynx1/datasets/CVSS-C/es-en/en/dev</th>\n",
       "    </tr>\n",
       "  </thead>\n",
       "  <tbody>\n",
       "    <tr>\n",
       "      <th>common_voice_es_19599731.mp3.wav</th>\n",
       "      <td>96300</td>\n",
       "    </tr>\n",
       "    <tr>\n",
       "      <th>common_voice_es_19762450.mp3.wav</th>\n",
       "      <td>70200</td>\n",
       "    </tr>\n",
       "    <tr>\n",
       "      <th>common_voice_es_19942021.mp3.wav</th>\n",
       "      <td>88200</td>\n",
       "    </tr>\n",
       "    <tr>\n",
       "      <th>common_voice_es_19969702.mp3.wav</th>\n",
       "      <td>101100</td>\n",
       "    </tr>\n",
       "    <tr>\n",
       "      <th>common_voice_es_18758543.mp3.wav</th>\n",
       "      <td>65700</td>\n",
       "    </tr>\n",
       "  </tbody>\n",
       "</table>\n",
       "</div>"
      ],
      "text/plain": [
       "                                  /mnt/lynx1/datasets/CVSS-C/es-en/en/dev\n",
       "common_voice_es_19599731.mp3.wav                                    96300\n",
       "common_voice_es_19762450.mp3.wav                                    70200\n",
       "common_voice_es_19942021.mp3.wav                                    88200\n",
       "common_voice_es_19969702.mp3.wav                                   101100\n",
       "common_voice_es_18758543.mp3.wav                                    65700"
      ]
     },
     "execution_count": 23,
     "metadata": {},
     "output_type": "execute_result"
    }
   ],
   "source": [
    "df2 = pd.read_csv(\"exps2/cvss/es-en/dev.en.tsv\", sep=\"\\t\")\n",
    "df2.head()"
   ]
  }
 ],
 "metadata": {
  "kernelspec": {
   "display_name": "amphion",
   "language": "python",
   "name": "python3"
  },
  "language_info": {
   "codemirror_mode": {
    "name": "ipython",
    "version": 3
   },
   "file_extension": ".py",
   "mimetype": "text/x-python",
   "name": "python",
   "nbconvert_exporter": "python",
   "pygments_lexer": "ipython3",
   "version": "3.10.16"
  }
 },
 "nbformat": 4,
 "nbformat_minor": 2
}
